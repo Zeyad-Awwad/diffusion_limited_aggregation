{
 "cells": [
  {
   "cell_type": "markdown",
   "metadata": {},
   "source": [
    "Imports the necessary libraries and sets up the initialization variables"
   ]
  },
  {
   "cell_type": "code",
   "execution_count": null,
   "metadata": {},
   "outputs": [],
   "source": [
    "import numpy as np\n",
    "import matplotlib.pyplot as plt\n",
    "from diffusion_limited_aggregation import DLA\n",
    "\n",
    "#The size of the NxN square grid\n",
    "N = 2001\n",
    "\n",
    "#The number of actively diffusing particles in the swarm\n",
    "N_particles = 10000\n",
    "\n",
    "#The number of diffusion steps \n",
    "N_steps = 750000\n",
    "N_steps = 10000\n",
    "\n",
    "#The initial radius used to generate particles\n",
    "R0 = N_particles / 100\n"
   ]
  },
  {
   "cell_type": "markdown",
   "metadata": {},
   "source": [
    "After running the DLA method, compute the fractal dimension and plots the final results"
   ]
  },
  {
   "cell_type": "code",
   "execution_count": null,
   "metadata": {},
   "outputs": [],
   "source": [
    "N_steps = 100000\n",
    "grid, R = DLA(N, N_particles, N_steps, R0, diagonals=True, r_ratio=1.75)\n",
    "\n",
    "I, J = np.nonzero(grid)\n",
    "size = np.sum(grid)\n",
    "print(\"Cluster size:\", size)\n",
    "\n",
    "fractal_dim = np.log(size) / np.log(R)\n",
    "print(\"Fractal dimension:\", fractal_dim)\n",
    "\n",
    "fig, ax = plt.subplots( figsize=(15,15) )\n",
    "ax.scatter( I, J, c='red', s=1)\n",
    "plt.show()"
   ]
  },
  {
   "cell_type": "code",
   "execution_count": null,
   "metadata": {},
   "outputs": [],
   "source": []
  }
 ],
 "metadata": {
  "kernelspec": {
   "display_name": "Python 3",
   "language": "python",
   "name": "python3"
  },
  "language_info": {
   "codemirror_mode": {
    "name": "ipython",
    "version": 3
   },
   "file_extension": ".py",
   "mimetype": "text/x-python",
   "name": "python",
   "nbconvert_exporter": "python",
   "pygments_lexer": "ipython3",
   "version": "3.7.6"
  }
 },
 "nbformat": 4,
 "nbformat_minor": 4
}
